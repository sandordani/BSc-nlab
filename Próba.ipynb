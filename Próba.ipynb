{
 "cells": [
  {
   "cell_type": "code",
   "execution_count": 1,
   "metadata": {},
   "outputs": [],
   "source": [
    "import numpy as np\n",
    "from loadData import DataLoader\n",
    "import torch\n",
    "import syft as sy\n",
    "import copy\n",
    "from torch import nn, optim"
   ]
  },
  {
   "cell_type": "code",
   "execution_count": 2,
   "metadata": {},
   "outputs": [],
   "source": [
    "\"\"\"\"\"\n",
    "Attributes:\n",
    "    -denseOutputData\n",
    "    -sparseOutputData\n",
    "    -denseInputData\n",
    "    -denseSampleIndex\n",
    "    -sparseInputData\n",
    "    -sparseSampleIndex\n",
    "    -allSamples\n",
    "    -folds\n",
    "\"\"\"\"\"\n",
    "data = DataLoader(datasetName='static')"
   ]
  },
  {
   "cell_type": "code",
   "execution_count": 3,
   "metadata": {},
   "outputs": [
    {
     "data": {
      "text/plain": [
       "dtype('float64')"
      ]
     },
     "execution_count": 3,
     "metadata": {},
     "output_type": "execute_result"
    }
   ],
   "source": [
    "data.denseInputData.dtype"
   ]
  },
  {
   "cell_type": "code",
   "execution_count": 4,
   "metadata": {},
   "outputs": [],
   "source": [
    "#sparse-t kéne hasztnálni, ez sok memória\n",
    "data.sparseOutputData = data.sparseOutputData.tocoo().astype('float64') "
   ]
  },
  {
   "cell_type": "code",
   "execution_count": 5,
   "metadata": {},
   "outputs": [],
   "source": [
    "hook = sy.TorchHook(torch)"
   ]
  },
  {
   "cell_type": "code",
   "execution_count": 6,
   "metadata": {},
   "outputs": [],
   "source": [
    "nworkers = 10\n",
    "workers = []\n",
    "for i in range(nworkers):\n",
    "    workers.append(sy.VirtualWorker(hook, id=str(i)))"
   ]
  },
  {
   "cell_type": "code",
   "execution_count": 7,
   "metadata": {},
   "outputs": [
    {
     "data": {
      "text/plain": [
       "(456331, 1310)"
      ]
     },
     "execution_count": 7,
     "metadata": {},
     "output_type": "execute_result"
    }
   ],
   "source": [
    "data.sparseOutputData.shape"
   ]
  },
  {
   "cell_type": "code",
   "execution_count": 8,
   "metadata": {},
   "outputs": [],
   "source": [
    "x = torch.tensor(data.denseInputData, requires_grad=True)\n",
    "i = torch.LongTensor([data.sparseOutputData.row,\n",
    "                          data.sparseOutputData.col])\n",
    "v = torch.FloatTensor(data.sparseOutputData.data)\n",
    "y = torch.sparse.FloatTensor(i, v, torch.Size(data.sparseOutputData.shape)).requires_grad_(True)\n",
    "in_dim  = x.size()[0]\n",
    "out_dim = y.size()[0]\n",
    "latent_dim = 500"
   ]
  },
  {
   "cell_type": "code",
   "execution_count": 9,
   "metadata": {},
   "outputs": [
    {
     "name": "stdout",
     "output_type": "stream",
     "text": [
      "(456331, 1310)\n",
      "torch.Size([456331, 1310])\n"
     ]
    }
   ],
   "source": [
    "print(data.sparseOutputData.shape)\n",
    "print(y.size())"
   ]
  },
  {
   "cell_type": "code",
   "execution_count": 63,
   "metadata": {},
   "outputs": [],
   "source": [
    "def splice_sparse(sparseMatrix, istart, iend):\n",
    "    cond = np.logical_and(sparseMatrix._indices()[0]>=istart, sparseMatrix._indices()[0]<iend)\n",
    "    rows = np.select(cond, sparseMatrix._indices()[0])\n",
    "    cols = np.select(cond, sparseMatrix._indices()[1])\n",
    "    values = np.select(cond, sparseMatrix._values())\n",
    "    print(rows.shape)\n",
    "    print(cols.shape)\n",
    "    print(values.shape)"
   ]
  },
  {
   "cell_type": "code",
   "execution_count": null,
   "metadata": {},
   "outputs": [],
   "source": [
    "splice_sparse(y, 3 * data_per_worker, (3+1) * data_per_worker)"
   ]
  },
  {
   "cell_type": "code",
   "execution_count": 15,
   "metadata": {},
   "outputs": [
    {
     "name": "stdout",
     "output_type": "stream",
     "text": [
      "from: 0 to 100\n",
      "tensor([[  345,   424,  1730,  ..., 27808, 29156, 30262],\n",
      "        [    0,     0,     0,  ...,  1309,  1309,  1309]])\n"
     ]
    }
   ],
   "source": [
    "x_pointers = []\n",
    "y_pointers = []\n",
    "#data_per_worker = int(x.size()[0] / nworkers)\n",
    "\n",
    "data_per_worker = 100\n",
    "for i in range(1):\n",
    "    print(\"from:\",(i) * data_per_worker, \"to\", (i+1) * data_per_worker)\n",
    "    x_pointers.append(x[i * data_per_worker: (i+1) * data_per_worker].send(workers[i]))\n",
    "    y_pointers.append(splice_sparse(y, i * data_per_worker, (i+1) * data_per_worker))"
   ]
  },
  {
   "cell_type": "code",
   "execution_count": null,
   "metadata": {},
   "outputs": [],
   "source": [
    "class TrunkNet(nn.Module):\n",
    "    def __init__(self):\n",
    "        super(Net, self).__init__()\n",
    "        self.fc1 = nn.Linear(in_dim, out_dim)\n",
    "\n",
    "    def forward(self, x):\n",
    "        x = F.relu(self.conv1(x))\n",
    "        x = F.max_pool2d(x, 2, 2)\n",
    "        x = F.relu(self.conv2(x))\n",
    "        x = F.max_pool2d(x, 2, 2)\n",
    "        x = x.view(-1, 4*4*50)\n",
    "        x = F.relu(self.fc1(x))\n",
    "        x = self.fc2(x)\n",
    "        return F.log_softmax(x, dim=1)"
   ]
  }
 ],
 "metadata": {
  "kernelspec": {
   "display_name": "Python 3",
   "language": "python",
   "name": "python3"
  },
  "language_info": {
   "codemirror_mode": {
    "name": "ipython",
    "version": 3
   },
   "file_extension": ".py",
   "mimetype": "text/x-python",
   "name": "python",
   "nbconvert_exporter": "python",
   "pygments_lexer": "ipython3",
   "version": "3.7.3"
  }
 },
 "nbformat": 4,
 "nbformat_minor": 2
}
